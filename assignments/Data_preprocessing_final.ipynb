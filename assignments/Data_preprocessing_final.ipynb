{
 "cells": [
  {
   "cell_type": "markdown",
   "metadata": {},
   "source": [
    "# Chapter 4: Deep Learning (Part 1) - Data preprocessing\n",
    "\n",
    "Osman Berk Satir,\n",
    "Milica Novakovic\n",
    "\n",
    "\n",
    "Part 1\n",
    "------------\n",
    "\n",
    "\n",
    "The objective of this first part is to learn about simple data curation practices. Data curation (for machine learning) consists basically in analyse, label, and separate in classes your input data.  In section two, you used pre-curated and separated data from the INRIA's person data set. Your first task is to create your training/testing sets by hand and analyse how well \"balance\" they are. \n",
    "\n",
    "**Objectives** \n",
    "In the following sections, you will use this part to \"feed\" both, a classic _Swallow_ (not-Deep) classification using handcrafted features and a Deep (kind of Deep) neuronal network. Your task will consist in analyse the accuracy of the aforementioned classification based on the amount of data available; from few hundred of samples to the full data-set.\n",
    "\n",
    "In this section we will provide the general steps and, as in the previous section, you will be asked to search in the function parameters and syntaxis in users documentation.\n",
    "\n",
    "\n",
    "## Dataset \n",
    "\n",
    "In this last section of the course we will use the the [notMNIST](http://yaroslavvb.blogspot.com/2011/09/notmnist-dataset.html) dataset. This dataset is designed to look like the classic [MNIST](http://yann.lecun.com/exdb/mnist/) dataset, while looking a little more like _real data_: it's not trivial, and the data is a lot less 'clean' than MNIST.\n",
    "\n",
    "\n",
    "### Libraries: \n",
    "\n",
    "Be sure that you can import all the libraries below, in addition, for next chapter you will make use of the tensor flow library to implement the used neuronal network. Be sure to be able to import it as: \n",
    "\n",
    "`` import tensorflow as tf``\n",
    "\n",
    "following the documentation page \n",
    "\n",
    "https://www.tensorflow.org/install/\n",
    "\n",
    "We will use only CPU's based training. \n",
    "\n"
   ]
  },
  {
   "cell_type": "code",
   "execution_count": 1,
   "metadata": {},
   "outputs": [],
   "source": [
    "import cv2 as cv\n",
    "import numpy as np\n",
    "import os\n",
    "import math\n",
    "import tarfile\n",
    "from utils import *\n",
    "from sklearn.decomposition import PCA\n",
    "from sklearn.discriminant_analysis import LinearDiscriminantAnalysis as LDA\n",
    "from sklearn.metrics import confusion_matrix\n",
    "from sklearn.preprocessing import LabelEncoder\n",
    "from sklearn.svm import LinearSVC\n",
    "from six.moves.urllib.request import urlretrieve\n",
    "import matplotlib.pyplot as plt\n",
    "import glob\n",
    "from six.moves import cPickle as pickle\n",
    "%matplotlib inline"
   ]
  },
  {
   "cell_type": "markdown",
   "metadata": {},
   "source": [
    "### Download the data. \n",
    "\n",
    "As in section 2, you need to download the data and set the input directory. Be sure to have at about ~1 Gb of free space. If the function is not able to download the data, try on the MNIST site. \n",
    "\n"
   ]
  },
  {
   "cell_type": "code",
   "execution_count": 2,
   "metadata": {},
   "outputs": [],
   "source": [
    "\n",
    "# Download the Data\n",
    "# The following functions will download the data for you and uncompress it\n",
    "\n",
    "# WARNING:  These varaibles set the input/output paths for ALL the bellow functions.\n",
    "url = 'http://commondatastorage.googleapis.com/books1000/'\n",
    "last_percent_reported = None\n",
    "data_root = '../data/' # Change me to store data elsewhere\n",
    "\n",
    "\n",
    "def maybe_download(filename, expected_bytes, force=False):\n",
    "  \"\"\"\n",
    "  Downloads a file if not present, and make sure it's the right size!.\n",
    "  If there's a file with the same name, the function will not try to \n",
    "  download the dataset again!\n",
    "  \"\"\"\n",
    "\n",
    "  dest_filename = os.path.join(data_root, filename)\n",
    "    \n",
    "  if force or not os.path.exists(dest_filename):\n",
    "    print('Attempting to download:', filename, 'This may take a while. Please wait.') \n",
    "    filename, _ = urlretrieve(url + filename, dest_filename)\n",
    "    print('\\nDownload Complete!')\n",
    "  statinfo = os.stat(dest_filename)\n",
    "  if statinfo.st_size == expected_bytes:\n",
    "    print('Found and verified', dest_filename)\n",
    "  else:\n",
    "    raise Exception(\n",
    "      'The file ' + dest_filename + 'already exist but seems corrupted. Delete it or download it from the browser!')\n",
    "  return dest_filename\n",
    "\n",
    "\n",
    "def maybe_extract(filename, force=False):\n",
    "  \"\"\"\n",
    "  Uncompress the data set for you\n",
    "  \"\"\"\n",
    "  root = os.path.splitext(os.path.splitext(filename)[0])[0]  # remove .tar.gz\n",
    "\n",
    "  if os.path.isdir(root) and not force:\n",
    "    # You may override by setting force=True.\n",
    "    print('%s dataset (seems to be) already present.\\nSkipping extraction of %s.' % (root, filename))\n",
    "  else:\n",
    "    print('Extracting data for %s. This may take a while. Please wait.' % root)\n",
    "    tar = tarfile.open(filename)\n",
    "    tar.extractall(data_root)\n",
    "    tar.close()\n",
    "    \n",
    "  data_folders = [os.path.join(root, d) for d in sorted(os.listdir(root)) if os.path.isdir(os.path.join(root, d))]\n",
    "  print(\"All setup.\")\n",
    "  return data_folders\n"
   ]
  },
  {
   "cell_type": "code",
   "execution_count": 3,
   "metadata": {},
   "outputs": [
    {
     "name": "stdout",
     "output_type": "stream",
     "text": [
      "Found and verified ../data/notMNIST_large.tar.gz\n",
      "Found and verified ../data/notMNIST_small.tar.gz\n"
     ]
    }
   ],
   "source": [
    "# Downloads ifa needed.\n",
    "large_filename = maybe_download('notMNIST_large.tar.gz', 247336696)\n",
    "small_filename  = maybe_download('notMNIST_small.tar.gz', 8458043)\n"
   ]
  },
  {
   "cell_type": "code",
   "execution_count": 4,
   "metadata": {},
   "outputs": [
    {
     "name": "stdout",
     "output_type": "stream",
     "text": [
      "../data/notMNIST_large dataset (seems to be) already present.\n",
      "Skipping extraction of ../data/notMNIST_large.tar.gz.\n",
      "All setup.\n",
      "../data/notMNIST_small dataset (seems to be) already present.\n",
      "Skipping extraction of ../data/notMNIST_small.tar.gz.\n",
      "All setup.\n"
     ]
    }
   ],
   "source": [
    "large_folders = maybe_extract(large_filename)\n",
    "small_folders = maybe_extract(small_filename)"
   ]
  },
  {
   "cell_type": "code",
   "execution_count": 5,
   "metadata": {},
   "outputs": [
    {
     "data": {
      "text/plain": [
       "['../data/notMNIST_large/A',\n",
       " '../data/notMNIST_large/B',\n",
       " '../data/notMNIST_large/C',\n",
       " '../data/notMNIST_large/D',\n",
       " '../data/notMNIST_large/E',\n",
       " '../data/notMNIST_large/F',\n",
       " '../data/notMNIST_large/G',\n",
       " '../data/notMNIST_large/H',\n",
       " '../data/notMNIST_large/I',\n",
       " '../data/notMNIST_large/J']"
      ]
     },
     "execution_count": 5,
     "metadata": {},
     "output_type": "execute_result"
    }
   ],
   "source": [
    "large_folders"
   ]
  },
  {
   "cell_type": "markdown",
   "metadata": {},
   "source": [
    "---\n",
    "Problem 1\n",
    "---------\n",
    "\n",
    "When working with data, always check your data. \n",
    "\n",
    "Create a description of your input data. Describe in a table or list (one for each sample size): \n",
    "\n",
    "* Number of classes (characters)\n",
    "* Number of samples per class\n",
    "* General information on the image size and number of channels.\n",
    "\n",
    "Visualize one sample per class bellow for a chosen size (large or small). \n",
    "\n",
    "---\n"
   ]
  },
  {
   "cell_type": "markdown",
   "metadata": {},
   "source": [
    "The next function find the path of the common folder from list of subdirectories which has common folder. We will use it to find path of folder for large and small dataset once from list large_folders"
   ]
  },
  {
   "cell_type": "code",
   "execution_count": 6,
   "metadata": {},
   "outputs": [],
   "source": [
    "def get_common_path(path_list):\n",
    "    path_folder = os.path.commonprefix(path_list)\n",
    "    return path_folder"
   ]
  },
  {
   "cell_type": "markdown",
   "metadata": {},
   "source": [
    "Now we will write a function to give us information of number of classes and number of images per each class in form of dicitonary"
   ]
  },
  {
   "cell_type": "code",
   "execution_count": 7,
   "metadata": {},
   "outputs": [],
   "source": [
    "from PIL import Image\n",
    "import os.path\n",
    "\n",
    "def samples_and_classes_num(common_path):\n",
    "    list_of_dirs = []\n",
    "    num_of_samples = []\n",
    "    num_of_channels = []\n",
    "    img_sizes = []\n",
    "    dict_of_dirs = {}\n",
    "    first_traverse = True\n",
    "    # from the folder common_path we navigate through subfolders and files in them\n",
    "    for i, value in enumerate(os.walk(common_path)):\n",
    "        root, dirs, files = value\n",
    "        # once take store the list of the subfolders\n",
    "        if (first_traverse):\n",
    "            list_of_dirs.extend(dirs)\n",
    "            first_traverse = False\n",
    "        else:\n",
    "            dict_of_dirs[list_of_dirs[i-1]] = len(files)\n",
    "            # how many files is in this subfolder\n",
    "            num_of_samples.append(len(files))\n",
    "            filename = os.path.join(root, files[0])\n",
    "            # to see the size of the image we open it using Pillow\n",
    "            img = Image.open(filename)\n",
    "            # if there is 2 dimesions, the image iz grayscale, so we append that there is only one channel\n",
    "            if len(img.size)==2:\n",
    "                num_of_channels.append(1)\n",
    "            else:\n",
    "                num_of_channels.append(img[2])\n",
    "            img_sizes.append(img.size)\n",
    "    # give back all desired data\n",
    "    return i, num_of_samples, list_of_dirs, dict_of_dirs, img_sizes, num_of_channels"
   ]
  },
  {
   "cell_type": "markdown",
   "metadata": {},
   "source": [
    "For large_folders we will find the desired data"
   ]
  },
  {
   "cell_type": "code",
   "execution_count": 8,
   "metadata": {},
   "outputs": [
    {
     "name": "stdout",
     "output_type": "stream",
     "text": [
      "Number of classes  10\n",
      "Num of samples for each letter  [1873, 1873, 1872, 1872, 1873, 1873, 1872, 1873, 1872, 1873]\n",
      "List of classes  ['C', 'A', 'H', 'G', 'D', 'E', 'J', 'F', 'I', 'B']\n",
      "Dictionary with number of samples for each class  {'C': 1873, 'A': 1873, 'H': 1872, 'G': 1872, 'D': 1873, 'E': 1873, 'J': 1872, 'F': 1873, 'I': 1872, 'B': 1873}\n",
      "Image sizes for each class  [(28, 28), (28, 28), (28, 28), (28, 28), (28, 28), (28, 28), (28, 28), (28, 28), (28, 28), (28, 28)]\n",
      "Number of channels for each class  [1, 1, 1, 1, 1, 1, 1, 1, 1, 1]\n"
     ]
    }
   ],
   "source": [
    "folder = get_common_path(small_folders)\n",
    "i, num_of_samples, list_of_dirs, dict_of_dirs, img_sizes, num_of_channels = samples_and_classes_num(folder)\n",
    "print(\"Number of classes \",i)\n",
    "print(\"Num of samples for each letter \", num_of_samples)\n",
    "print(\"List of classes \", list_of_dirs)\n",
    "print(\"Dictionary with number of samples for each class \", dict_of_dirs)\n",
    "print(\"Image sizes for each class \", img_sizes)\n",
    "print(\"Number of channels for each class \", num_of_channels)"
   ]
  },
  {
   "cell_type": "markdown",
   "metadata": {},
   "source": [
    "Now we will put the data in the Dataframe which looks similar as Table"
   ]
  },
  {
   "cell_type": "code",
   "execution_count": 9,
   "metadata": {},
   "outputs": [],
   "source": [
    "import pandas as pd\n",
    "def make_dataframe_from_lists(index_list, list_of_list, list_of_names):\n",
    "    data= dict(zip(list_of_dirs,list_of_list))\n",
    "    df = pd.DataFrame(data, index = list_of_dirs)\n",
    "    df.columns = list_of_names\n",
    "    return df"
   ]
  },
  {
   "cell_type": "code",
   "execution_count": 10,
   "metadata": {},
   "outputs": [
    {
     "data": {
      "text/html": [
       "<div>\n",
       "<style scoped>\n",
       "    .dataframe tbody tr th:only-of-type {\n",
       "        vertical-align: middle;\n",
       "    }\n",
       "\n",
       "    .dataframe tbody tr th {\n",
       "        vertical-align: top;\n",
       "    }\n",
       "\n",
       "    .dataframe thead th {\n",
       "        text-align: right;\n",
       "    }\n",
       "</style>\n",
       "<table border=\"1\" class=\"dataframe\">\n",
       "  <thead>\n",
       "    <tr style=\"text-align: right;\">\n",
       "      <th></th>\n",
       "      <th>samples</th>\n",
       "      <th>channels</th>\n",
       "      <th>image_sizes</th>\n",
       "    </tr>\n",
       "  </thead>\n",
       "  <tbody>\n",
       "    <tr>\n",
       "      <th>C</th>\n",
       "      <td>1873</td>\n",
       "      <td>1</td>\n",
       "      <td>(28, 28)</td>\n",
       "    </tr>\n",
       "    <tr>\n",
       "      <th>A</th>\n",
       "      <td>1873</td>\n",
       "      <td>1</td>\n",
       "      <td>(28, 28)</td>\n",
       "    </tr>\n",
       "    <tr>\n",
       "      <th>H</th>\n",
       "      <td>1872</td>\n",
       "      <td>1</td>\n",
       "      <td>(28, 28)</td>\n",
       "    </tr>\n",
       "    <tr>\n",
       "      <th>G</th>\n",
       "      <td>1872</td>\n",
       "      <td>1</td>\n",
       "      <td>(28, 28)</td>\n",
       "    </tr>\n",
       "    <tr>\n",
       "      <th>D</th>\n",
       "      <td>1873</td>\n",
       "      <td>1</td>\n",
       "      <td>(28, 28)</td>\n",
       "    </tr>\n",
       "    <tr>\n",
       "      <th>E</th>\n",
       "      <td>1873</td>\n",
       "      <td>1</td>\n",
       "      <td>(28, 28)</td>\n",
       "    </tr>\n",
       "    <tr>\n",
       "      <th>J</th>\n",
       "      <td>1872</td>\n",
       "      <td>1</td>\n",
       "      <td>(28, 28)</td>\n",
       "    </tr>\n",
       "    <tr>\n",
       "      <th>F</th>\n",
       "      <td>1873</td>\n",
       "      <td>1</td>\n",
       "      <td>(28, 28)</td>\n",
       "    </tr>\n",
       "    <tr>\n",
       "      <th>I</th>\n",
       "      <td>1872</td>\n",
       "      <td>1</td>\n",
       "      <td>(28, 28)</td>\n",
       "    </tr>\n",
       "    <tr>\n",
       "      <th>B</th>\n",
       "      <td>1873</td>\n",
       "      <td>1</td>\n",
       "      <td>(28, 28)</td>\n",
       "    </tr>\n",
       "  </tbody>\n",
       "</table>\n",
       "</div>"
      ],
      "text/plain": [
       "   samples  channels image_sizes\n",
       "C     1873         1    (28, 28)\n",
       "A     1873         1    (28, 28)\n",
       "H     1872         1    (28, 28)\n",
       "G     1872         1    (28, 28)\n",
       "D     1873         1    (28, 28)\n",
       "E     1873         1    (28, 28)\n",
       "J     1872         1    (28, 28)\n",
       "F     1873         1    (28, 28)\n",
       "I     1872         1    (28, 28)\n",
       "B     1873         1    (28, 28)"
      ]
     },
     "execution_count": 10,
     "metadata": {},
     "output_type": "execute_result"
    }
   ],
   "source": [
    "list_of_list = []\n",
    "list_of_names = []\n",
    "list_of_list = [num_of_samples, num_of_channels, img_sizes]\n",
    "list_of_names = [\"samples\",\"channels\",\"image_sizes\"]\n",
    "df = make_dataframe_from_lists(list_of_dirs,list_of_list, list_of_names)\n",
    "df"
   ]
  },
  {
   "cell_type": "markdown",
   "metadata": {},
   "source": [
    "\n",
    "Now that you have all your images set up we will load the data into a more manageable format. Since depending on your computer setup you might not be able to fit it all in memory, we'll load each class into a separate dataset, store them on disk and curate them independently. \n",
    "\n",
    "To do this we will use pickles!\n",
    "\n",
    "https://docs.python.org/3.2/library/pickle.html\n",
    "\n",
    "“Pickling” is the process whereby a Python object (it can be anything!) is converted into a byte stream (binary format), and “unpickling” is the inverse operation. We will use pickles to save the FULL set of images for each character in one pickle. The result will be a 3D array (image index, x, y) of floating point values, normalized to have approximately zero mean and standard deviation ~0.5 to make training easier down the road. This process is known as \"normalizing the data\" or \"feature scaling, which is very important to ensure convergence in the optimization step, as well to ensure that the feature space is well defined.\n",
    "\n",
    "https://en.wikipedia.org/wiki/Feature_scaling\n",
    "\n",
    "\n",
    "Your task: using the skeleton function bellow you need to: \n",
    "\n",
    "* 1) Load all the images in FLOAT format for each class (A,..,J), 1 channel only.\n",
    "* 2) Transform each image intensities such that the range goes from -125,125 (instead of 0, 256)\n",
    "* 3) Scale the function so the new range goes from -0.5 to 0.5.\n",
    "\n",
    "A few images might not be readable, we'll just skip them."
   ]
  },
  {
   "cell_type": "code",
   "execution_count": 11,
   "metadata": {},
   "outputs": [],
   "source": [
    "\n",
    "\"\"\" Image fixed size  \"\"\"\n",
    "image_size  = 28     # Pixel width and height. (28x28)\n",
    "pixel_depth = 255.0  # Number of levels per pixel. (0,255)\n",
    "\n",
    "\"\"\" There's should be enough data at the end\"\"\"\n",
    "min_num_images_train = 45000;\n",
    "min_num_images_test  = 1800;\n",
    "\n",
    "\n",
    "\n",
    "def load_letter(folder, min_num_images, verbose = True):\n",
    "    \n",
    "#   \"\"\"\" \n",
    "#       Base function: \n",
    "  \n",
    "#       Complete this function to read a each iamge of a given character (folder)\n",
    "#       Transforms and scale the image to have 0 mean and standard deviation of ~0.5.\n",
    "      \n",
    "#       Params: \n",
    "#           folder: input character folder (e.g. ../data/notMNIST_large/A/)\n",
    "#           min_num_images: minimum number of images you should have per character.\n",
    "      \n",
    "#       returns: \n",
    "#           dataset: Vector containing the fully loaded and scaled dataset.\n",
    "#   \"\"\"\n",
    "    image_files = os.listdir(folder)\n",
    "    \n",
    "    # Array size (should be preserved)  \n",
    "    dataset = np.ndarray(shape=(len(image_files), image_size, image_size),dtype=np.float32)\n",
    "    if verbose:\n",
    "        print(folder)\n",
    "    num_images = 0\n",
    "\n",
    "    # List of all the images inside the folder  \n",
    "    for image in image_files:\n",
    "        image_file = os.path.join(folder, image)\n",
    "        filename = image_file\n",
    "        # If the image is not loadable (there are some corrupted images you can skip them) \n",
    "        try:\n",
    "\n",
    "          # CODE HERE:\n",
    "\n",
    "          #Load each image and transform them\n",
    "            image_data = np.array(Image.open(filename)).astype(\"float64\")\n",
    "            #img_mean, img_std  = np.mean(image_data), np.std(image_data)\n",
    "            image_data = np.reshape((image_data-pixel_depth/2)/pixel_depth, (image_size, -1))\n",
    "        #--- End of your code.\n",
    "\n",
    "          # here I check that you load them correctly and save it in the dataset array.  \n",
    "            if image_data.shape != (image_size, image_size):\n",
    "                raise Exception('Unexpected image shape: %s' % str(image_data.size))\n",
    "            dataset[num_images, :, :] = image_data\n",
    "            num_images = num_images + 1\n",
    "        except IOError as e:\n",
    "            print('Could not read:', image_file, ':', e, '- it\\'s ok, skipping.')\n",
    "\n",
    "    dataset = dataset[0:num_images, :, :]\n",
    "\n",
    "    # If this theshhold is not met, you are doind something wrong (probably)  \n",
    "    if num_images < min_num_images:\n",
    "        raise Exception('Many fewer images than expected: %d < %d' %\n",
    "                    (num_images, min_num_images))\n",
    "\n",
    "    #Check this output! \n",
    "    # The mean shoudl be very close to 0 i.e < 1 and the std should be less than 0.5.\n",
    "    if verbose:\n",
    "        print('Full dataset tensor:', dataset.shape)\n",
    "        # Notice we aree callign this a \"tensor\"\n",
    "\n",
    "        print('Mean:', np.mean(dataset))\n",
    "        print('Standard deviation:', np.std(dataset))\n",
    "    return dataset\n"
   ]
  },
  {
   "cell_type": "code",
   "execution_count": 12,
   "metadata": {},
   "outputs": [
    {
     "name": "stdout",
     "output_type": "stream",
     "text": [
      "../data/notMNIST_small/A\n",
      "Could not read: ../data/notMNIST_small/A/RGVtb2NyYXRpY2FCb2xkT2xkc3R5bGUgQm9sZC50dGY=.png : cannot identify image file '../data/notMNIST_small/A/RGVtb2NyYXRpY2FCb2xkT2xkc3R5bGUgQm9sZC50dGY=.png' - it's ok, skipping.\n",
      "Full dataset tensor: (1872, 28, 28)\n",
      "Mean: -0.13262635\n",
      "Standard deviation: 0.445128\n"
     ]
    }
   ],
   "source": [
    "folder = \"../data/notMNIST_small/A\"\n",
    "min_num_images = 1800\n",
    "dataset_smallA = load_letter(folder, min_num_images) #Here we can see that mean and standard deviation is as it is expected."
   ]
  },
  {
   "cell_type": "code",
   "execution_count": 13,
   "metadata": {},
   "outputs": [],
   "source": [
    "# Look, Morty, I'm a Pickle!        \n",
    "\n",
    "# This function calls your pre-defined-function load_letter(folder, min_num_images) and creates the pickle!\n",
    "\n",
    "def Im_a_pickle(data_folders, min_num_images_per_class, force=False):\n",
    "    \n",
    "    \"\"\" Base function: \n",
    "  \n",
    "      Loads all the images listed in data_folders and creates a .pickle file\n",
    "      \n",
    "      Params: \n",
    "          data_folders: list of the folders to pickle (i.e. large_folders, small_folders)\n",
    "          min_num_images: minimum number of images you should have per character.\n",
    "      \n",
    "      returns: \n",
    "          dataset_names: Vector containing all the pickles names.\n",
    "  \"\"\"\n",
    "    dataset_names = []\n",
    "\n",
    "    for folder in data_folders:\n",
    "        set_filename = folder + '.pickle'\n",
    "        dataset_names.append(set_filename)\n",
    "    \n",
    "        if os.path.exists(set_filename) and not force:\n",
    "            # You may override by setting force=True.\n",
    "            print('%s already present - Skipping pickling.' % set_filename)\n",
    "        else:\n",
    "            print('Turning myself into a Pickle! %s.' % set_filename)\n",
    "            dataset = load_letter(folder, min_num_images_per_class)\n",
    "            try:\n",
    "                with open(set_filename, 'wb') as f:\n",
    "                    pickle.dump(dataset, f, pickle.HIGHEST_PROTOCOL)\n",
    "            except Exception as e:\n",
    "                print('Unable to save data to', set_filename, ':', e)\n",
    "    return dataset_names\n",
    "\n"
   ]
  },
  {
   "cell_type": "markdown",
   "metadata": {},
   "source": [
    "If everything was done correctly we can then call the following functiosn without error!\n",
    "\n",
    "Notice that we are here considereing the \"large\" data set as our training data set and the small as our test data set."
   ]
  },
  {
   "cell_type": "code",
   "execution_count": 14,
   "metadata": {},
   "outputs": [
    {
     "name": "stdout",
     "output_type": "stream",
     "text": [
      "../data/notMNIST_large/A.pickle already present - Skipping pickling.\n",
      "../data/notMNIST_large/B.pickle already present - Skipping pickling.\n",
      "../data/notMNIST_large/C.pickle already present - Skipping pickling.\n",
      "../data/notMNIST_large/D.pickle already present - Skipping pickling.\n",
      "../data/notMNIST_large/E.pickle already present - Skipping pickling.\n",
      "../data/notMNIST_large/F.pickle already present - Skipping pickling.\n",
      "../data/notMNIST_large/G.pickle already present - Skipping pickling.\n",
      "../data/notMNIST_large/H.pickle already present - Skipping pickling.\n",
      "../data/notMNIST_large/I.pickle already present - Skipping pickling.\n",
      "../data/notMNIST_large/J.pickle already present - Skipping pickling.\n",
      "../data/notMNIST_small/A.pickle already present - Skipping pickling.\n",
      "../data/notMNIST_small/B.pickle already present - Skipping pickling.\n",
      "../data/notMNIST_small/C.pickle already present - Skipping pickling.\n",
      "../data/notMNIST_small/D.pickle already present - Skipping pickling.\n",
      "../data/notMNIST_small/E.pickle already present - Skipping pickling.\n",
      "../data/notMNIST_small/F.pickle already present - Skipping pickling.\n",
      "../data/notMNIST_small/G.pickle already present - Skipping pickling.\n",
      "../data/notMNIST_small/H.pickle already present - Skipping pickling.\n",
      "../data/notMNIST_small/I.pickle already present - Skipping pickling.\n",
      "../data/notMNIST_small/J.pickle already present - Skipping pickling.\n"
     ]
    }
   ],
   "source": [
    "train_datasets = Im_a_pickle(large_folders, 45000)\n",
    "test_datasets  = Im_a_pickle(small_folders, 1800)"
   ]
  },
  {
   "cell_type": "markdown",
   "metadata": {},
   "source": [
    "---\n",
    "## Problem 2\n",
    "\n",
    "---------\n",
    "\n",
    "To corroborate that our data is properly saved and scaled, display one example per class letter (A,...,J), from the train dataset **or** the test dataset. \n",
    "\n",
    "To do this you will need to use the ``pickle.load(...)``. Check the documentation above for more details. You can use the inhered matplotlib function to show each example. Include a colorbar showing the __values range of the image__.\n",
    "\n",
    "---"
   ]
  },
  {
   "cell_type": "code",
   "execution_count": 15,
   "metadata": {},
   "outputs": [
    {
     "data": {
      "image/png": "[encoded data removed]",
      "text/plain": [
       "<matplotlib.figure.Figure at 0x7f684d2eac50>"
      ]
     },
     "metadata": {},
     "output_type": "display_data"
    },
    {
     "data": {
      "image/png": "[encoded data removed]",
      "text/plain": [
       "<matplotlib.figure.Figure at 0x7f6844d4b4e0>"
      ]
     },
     "metadata": {},
     "output_type": "display_data"
    },
    {
     "data": {
      "image/png": "[encoded data removed]",
      "text/plain": [
       "<matplotlib.figure.Figure at 0x7f6844c8c128>"
      ]
     },
     "metadata": {},
     "output_type": "display_data"
    },
    {
     "data": {
      "image/png": "[encoded data removed]",
      "text/plain": [
       "<matplotlib.figure.Figure at 0x7f6844c1ab38>"
      ]
     },
     "metadata": {},
     "output_type": "display_data"
    },
    {
     "data": {
      "image/png": "[encoded data removed]",
      "text/plain": [
       "<matplotlib.figure.Figure at 0x7f6844baf438>"
      ]
     },
     "metadata": {},
     "output_type": "display_data"
    },
    {
     "data": {
      "image/png": "[encoded data removed]",
      "text/plain": [
       "<matplotlib.figure.Figure at 0x7f6844aba9e8>"
      ]
     },
     "metadata": {},
     "output_type": "display_data"
    },
    {
     "data": {
      "image/png": "[encoded data removed]",
      "text/plain": [
       "<matplotlib.figure.Figure at 0x7f6844af1e48>"
      ]
     },
     "metadata": {},
     "output_type": "display_data"
    },
    {
     "data": {
      "image/png": "[encoded data removed]",
      "text/plain": [
       "<matplotlib.figure.Figure at 0x7f6844b7c550>"
      ]
     },
     "metadata": {},
     "output_type": "display_data"
    },
    {
     "data": {
      "image/png": "[encoded data removed]",
      "text/plain": [
       "<matplotlib.figure.Figure at 0x7f6844c6beb8>"
      ]
     },
     "metadata": {},
     "output_type": "display_data"
    },
    {
     "data": {
      "image/png": "[encoded data removed]",
      "text/plain": [
       "<matplotlib.figure.Figure at 0x7f6844cd3eb8>"
      ]
     },
     "metadata": {},
     "output_type": "display_data"
    }
   ],
   "source": [
    "# code here\n",
    "import random\n",
    "def sample_pickles_with_plotting(datasets):\n",
    "    image_list = []\n",
    "    num_of_images = len(datasets)\n",
    "    index=1\n",
    "    plt.show()\n",
    "    for folder in (datasets):\n",
    "        letter_sampled = False\n",
    "        # until we pick on letter that can be accessed iterate and pick random letter to be displayed\n",
    "        while (not letter_sampled):\n",
    "            try:\n",
    "                with open(folder, 'rb') as f:\n",
    "                    letter = pickle.load(f)\n",
    "                    # take a random example of letter in folder f\n",
    "                    ind = random.randint(1, len(letter)-1)\n",
    "                    image_list.append(letter[ind])\n",
    "                    f.close()\n",
    "                    index+=1\n",
    "                    letter_sampled = True\n",
    "            except Exception as e:\n",
    "                # we could not manage to read the this letter, display the message\n",
    "                letter_sampled = False\n",
    "                print('Unable to read data from', folder, ':', e)\n",
    "    # plotting            \n",
    "    fig = plt.figure()\n",
    "    num_of_images = len(image_list)\n",
    "    for index, img in enumerate(image_list):\n",
    "        plt.subplot(1,num_of_images,index+1)\n",
    "        plt.imshow(img)\n",
    "        plt.colorbar(fraction=0.1, pad=0.04)\n",
    "        plt.show()\n",
    "    return image_list\n",
    "image_list = sample_pickles_with_plotting(test_datasets)"
   ]
  },
  {
   "cell_type": "markdown",
   "metadata": {},
   "source": [
    "\n",
    "Finally if everything is correct, the above function should contain the full length of each character sample.  The labels will be stored into a separate array of *integers 0 through 9*.\n",
    "\n",
    "Corroborate that the train_sets are in the order of ~52,000 images, and the train_set in the order of 1,870 images. "
   ]
  },
  {
   "cell_type": "code",
   "execution_count": 16,
   "metadata": {},
   "outputs": [
    {
     "name": "stdout",
     "output_type": "stream",
     "text": [
      "[52909, 52911, 52912, 52911, 52912, 52912, 52912, 52912, 52912, 52911]\n",
      "[1872, 1873, 1873, 1873, 1873, 1872, 1872, 1872, 1872, 1872]\n"
     ]
    },
    {
     "data": {
      "text/plain": [
       "[1872, 1873, 1873, 1873, 1873, 1872, 1872, 1872, 1872, 1872]"
      ]
     },
     "execution_count": 16,
     "metadata": {},
     "output_type": "execute_result"
    }
   ],
   "source": [
    "def data_sets_sizes(data_set):\n",
    "    \n",
    "    number_files = []\n",
    "    \"\"\" Base function: \n",
    "  \n",
    "      Loads all the images listed in data_set and return it' s size\n",
    "      \n",
    "      Params: \n",
    "          data_folders: lsit of the folders to pickle (i.e. large_folders, small_folders)\n",
    "          min_num_images: minimum number of images you should have per character.\n",
    "      \n",
    "      returns: \n",
    "          dataset_names: Vector containing all the pickles names.\n",
    "  \"\"\"\n",
    "\n",
    "    #Code here \n",
    "    for folder in data_set:\n",
    "        try:\n",
    "            with open(folder, 'rb') as f:\n",
    "                letter = pickle.load(f)\n",
    "                number_files.append(len(letter))\n",
    "        except Exception as e:\n",
    "            print('Can not open or read from', folder, ':', e)\n",
    "            \n",
    "    print(number_files)\n",
    "    \n",
    "    return number_files\n",
    "data_sets_sizes(train_datasets)\n",
    "data_sets_sizes(test_datasets)"
   ]
  },
  {
   "cell_type": "markdown",
   "metadata": {},
   "source": [
    "---\n",
    "## Problem 3\n",
    "\n",
    "---------\n",
    "Creating sub-sampled datasets.\n",
    "In order to evaluate the performance of our classifiers, we need to create subsets of our data properly randomized; this means that we shouldn't choose always the first set of images to compare since we will introduce a bias because of the sampled order. A very nice post on this topic can be found below in case you wonder if it's worth the trouble.\n",
    "\n",
    "https://machinelearningmastery.com/randomness-in-machine-learning/\n",
    "\n",
    "\n",
    "As problem 3 you are asked to write a function: sample_training_data(...) which should create a training dataset of a given size, containing the same number of samples for each label (-1 or +1 samples) randomly selected from the train-dataset; as well as the labels of the training set coded as integers from 0 (A) to 9 (J).\n",
    "Is worth mentioning that is common practice in machine learning to set aside a third data set known as the validation dataset. Which is used to prevent overfitting and other training problems. We will not make use of such dataset, however, is worth to check why is used; one nice and short explanation can be found here (it also contains nice code hints relevant to the exercise ;) )\n",
    "\n",
    "https://machinelearningmastery.com/difference-test-validation-datasets/\n",
    "\n",
    "---"
   ]
  },
  {
   "cell_type": "code",
   "execution_count": 17,
   "metadata": {},
   "outputs": [
    {
     "name": "stdout",
     "output_type": "stream",
     "text": [
      "Training size:  (200000, 28, 28) \n",
      "Label vector size: (200000,)\n",
      "Validation size:  (10000, 28, 28) \n",
      "Label vector size: (10000,)\n",
      "Test size:  (10000, 28, 28) \n",
      "Label vector size: (10000,)\n"
     ]
    }
   ],
   "source": [
    "#Code here.\n",
    "def sample_training_data(pickle_files, train_size):\n",
    "\n",
    "    \"\"\" Base function: \n",
    "  \n",
    "      Given a train size returns a ndarray containing a total of \n",
    "      <train_size/number_of_clases> samples for each character.\n",
    "      \n",
    "      example for train_size = 100, should contain 100/10 = 10 samples of each character. \n",
    "      \n",
    "      The samples should be chose randomly.\n",
    "      \n",
    "      Params: \n",
    "          pickle_files: list of the pickle files (training set)\n",
    "          train_size: total length of the new training set\n",
    "      \n",
    "      returns: \n",
    "          train_dataset: ndarray containing all the trainign images (properly normalized)\n",
    "          train_labels : the labels of each selected image. \n",
    "  \"\"\"\n",
    "    train_dataset = []\n",
    "    train_labels = []\n",
    "    num_of_classes = 10\n",
    "    num_of_each_class_samples = int(train_size/num_of_classes)\n",
    "    for label, folder in enumerate(pickle_files):\n",
    "        try:\n",
    "            with open(folder, 'rb') as f:\n",
    "                letter = pickle.load(f)\n",
    "                # randomly uniformly sample the letters, by sampling indices from appropriate interval\n",
    "                class_samples = random.sample(list(letter),num_of_each_class_samples)\n",
    "                train_dataset.extend(class_samples)\n",
    "                # make a labels for each picked example\n",
    "                labels = [label]*num_of_each_class_samples\n",
    "                train_labels.extend(labels)\n",
    "                f.close()\n",
    "        except Exception as e:\n",
    "            # print the message\n",
    "            print('Can not read data from', folder, ':', e)\n",
    "    train_dataset = np.array(train_dataset)\n",
    "    train_labels = np.array(train_labels)\n",
    "    return train_dataset, train_labels\n",
    "  \n",
    "\n",
    "# EXAMPLE OF USE\n",
    "train_size = 200000\n",
    "valid_size = 10000\n",
    "test_size = 10000\n",
    "\n",
    "train_dataset, train_labels = sample_training_data(train_datasets, train_size)\n",
    "val_dataset, val_labels = sample_training_data(train_datasets, valid_size)\n",
    "test_dataset, test_labels = sample_training_data(test_datasets, test_size)\n",
    "\n",
    "# Just for easier debugging\n",
    "print('Training size: ', train_dataset.shape, '\\nLabel vector size:',train_labels.shape)\n",
    "print('Validation size: ', val_dataset.shape, '\\nLabel vector size:',val_labels.shape)\n",
    "print('Test size: ', test_dataset.shape, '\\nLabel vector size:',test_labels.shape)"
   ]
  },
  {
   "cell_type": "markdown",
   "metadata": {},
   "source": [
    "Finally, you need to randomize the vector so it doesn't follow any specific order: like first all the A characters and then the 'B' characters, and so on \n",
    "\n",
    "```(A, A, ..., A , B, B, ..., B, C, C, ...,C,... )```.\n"
   ]
  },
  {
   "cell_type": "code",
   "execution_count": 18,
   "metadata": {},
   "outputs": [],
   "source": [
    "# Define a function to randomize THE ORDER of a given dataset.\n",
    "# Be sure that the dataset and the labels are shuffled in the same order so they MATCH.\n",
    "\n",
    "def randomize(dataset, labels):\n",
    "    #code here\n",
    "    # get the permutation of indices and apply it on dataset and labels\n",
    "    shuffled_indices = np.random.permutation(dataset.shape[0])\n",
    "    shuffled_dataset = dataset[shuffled_indices,:,:]\n",
    "    shuffled_labels = labels[shuffled_indices]\n",
    "    return shuffled_dataset, shuffled_labels\n",
    "\n",
    "train_dataset, train_labels = randomize(train_dataset, train_labels)\n",
    "val_dataset, val_labels   = randomize(val_dataset, val_labels)\n",
    "test_dataset, test_labels   = randomize(test_dataset, test_labels)"
   ]
  },
  {
   "cell_type": "code",
   "execution_count": 19,
   "metadata": {},
   "outputs": [
    {
     "data": {
      "text/plain": [
       "array([7, 4, 2, 2, 4, 7, 3, 7, 5, 4])"
      ]
     },
     "execution_count": 19,
     "metadata": {},
     "output_type": "execute_result"
    }
   ],
   "source": [
    "train_labels[:10] #We can see that the data is randomized."
   ]
  },
  {
   "cell_type": "markdown",
   "metadata": {},
   "source": [
    "---\n",
    "Problem 4\n",
    "---------\n",
    "\n",
    "Show us that your method works and both datasets are coherent with the labels. You can display the shuffled order and show the first images in both datasets. They should match the labels.\n",
    "\n",
    "---"
   ]
  },
  {
   "cell_type": "code",
   "execution_count": 20,
   "metadata": {},
   "outputs": [
    {
     "name": "stdout",
     "output_type": "stream",
     "text": [
      "Train\n"
     ]
    },
    {
     "data": {
      "image/png": "[encoded data removed]",
      "text/plain": [
       "<matplotlib.figure.Figure at 0x7f68449fbf98>"
      ]
     },
     "metadata": {},
     "output_type": "display_data"
    },
    {
     "data": {
      "image/png": "[encoded data removed]",
      "text/plain": [
       "<matplotlib.figure.Figure at 0x7f68445ee6a0>"
      ]
     },
     "metadata": {},
     "output_type": "display_data"
    },
    {
     "data": {
      "image/png": "[encoded data removed]",
      "text/plain": [
       "<matplotlib.figure.Figure at 0x7f68449b09e8>"
      ]
     },
     "metadata": {},
     "output_type": "display_data"
    },
    {
     "data": {
      "image/png": "[encoded data removed]",
      "text/plain": [
       "<matplotlib.figure.Figure at 0x7f68448c8438>"
      ]
     },
     "metadata": {},
     "output_type": "display_data"
    },
    {
     "data": {
      "image/png": "[encoded data removed]",
      "text/plain": [
       "<matplotlib.figure.Figure at 0x7f6844856a58>"
      ]
     },
     "metadata": {},
     "output_type": "display_data"
    },
    {
     "data": {
      "image/png": "[encoded data removed]",
      "text/plain": [
       "<matplotlib.figure.Figure at 0x7f68447e20b8>"
      ]
     },
     "metadata": {},
     "output_type": "display_data"
    },
    {
     "data": {
      "image/png": "[encoded data removed]",
      "text/plain": [
       "<matplotlib.figure.Figure at 0x7f684476f240>"
      ]
     },
     "metadata": {},
     "output_type": "display_data"
    },
    {
     "data": {
      "image/png": "[encoded data removed]",
      "text/plain": [
       "<matplotlib.figure.Figure at 0x7f68447cfd68>"
      ]
     },
     "metadata": {},
     "output_type": "display_data"
    },
    {
     "data": {
      "image/png": "[encoded data removed]",
      "text/plain": [
       "<matplotlib.figure.Figure at 0x7f6844c25e10>"
      ]
     },
     "metadata": {},
     "output_type": "display_data"
    },
    {
     "data": {
      "image/png": "[encoded data removed]",
      "text/plain": [
       "<matplotlib.figure.Figure at 0x7f6844b89160>"
      ]
     },
     "metadata": {},
     "output_type": "display_data"
    },
    {
     "name": "stdout",
     "output_type": "stream",
     "text": [
      "Valid\n"
     ]
    },
    {
     "data": {
      "image/png": "[encoded data removed]",
      "text/plain": [
       "<matplotlib.figure.Figure at 0x7f6844cf75c0>"
      ]
     },
     "metadata": {},
     "output_type": "display_data"
    },
    {
     "data": {
      "image/png": "[encoded data removed]",
      "text/plain": [
       "<matplotlib.figure.Figure at 0x7f6844c29198>"
      ]
     },
     "metadata": {},
     "output_type": "display_data"
    },
    {
     "data": {
      "image/png": "[encoded data removed]",
      "text/plain": [
       "<matplotlib.figure.Figure at 0x7f6844a99eb8>"
      ]
     },
     "metadata": {},
     "output_type": "display_data"
    },
    {
     "data": {
      "image/png": "[encoded data removed]",
      "text/plain": [
       "<matplotlib.figure.Figure at 0x7f6844b608d0>"
      ]
     },
     "metadata": {},
     "output_type": "display_data"
    },
    {
     "data": {
      "image/png": "[encoded data removed]",
      "text/plain": [
       "<matplotlib.figure.Figure at 0x7f6844bf4278>"
      ]
     },
     "metadata": {},
     "output_type": "display_data"
    },
    {
     "data": {
      "image/png": "[encoded data removed]",
      "text/plain": [
       "<matplotlib.figure.Figure at 0x7f6844d4e828>"
      ]
     },
     "metadata": {},
     "output_type": "display_data"
    },
    {
     "data": {
      "image/png": "[encoded data removed]",
      "text/plain": [
       "<matplotlib.figure.Figure at 0x7f68446f33c8>"
      ]
     },
     "metadata": {},
     "output_type": "display_data"
    },
    {
     "data": {
      "image/png": "[encoded data removed]",
      "text/plain": [
       "<matplotlib.figure.Figure at 0x7f6844987518>"
      ]
     },
     "metadata": {},
     "output_type": "display_data"
    },
    {
     "data": {
      "image/png": "[encoded data removed]",
      "text/plain": [
       "<matplotlib.figure.Figure at 0x7f68448cc748>"
      ]
     },
     "metadata": {},
     "output_type": "display_data"
    },
    {
     "data": {
      "image/png": "[encoded data removed]",
      "text/plain": [
       "<matplotlib.figure.Figure at 0x7f6844af1f28>"
      ]
     },
     "metadata": {},
     "output_type": "display_data"
    },
    {
     "name": "stdout",
     "output_type": "stream",
     "text": [
      "Test\n"
     ]
    },
    {
     "data": {
      "image/png": "[encoded data removed]",
      "text/plain": [
       "<matplotlib.figure.Figure at 0x7f68445b5160>"
      ]
     },
     "metadata": {},
     "output_type": "display_data"
    },
    {
     "data": {
      "image/png": "[encoded data removed]",
      "text/plain": [
       "<matplotlib.figure.Figure at 0x7f68449fb860>"
      ]
     },
     "metadata": {},
     "output_type": "display_data"
    },
    {
     "data": {
      "image/png": "[encoded data removed]",
      "text/plain": [
       "<matplotlib.figure.Figure at 0x7f68449b4128>"
      ]
     },
     "metadata": {},
     "output_type": "display_data"
    },
    {
     "data": {
      "image/png": "[encoded data removed]",
      "text/plain": [
       "<matplotlib.figure.Figure at 0x7f6844aceeb8>"
      ]
     },
     "metadata": {},
     "output_type": "display_data"
    },
    {
     "data": {
      "image/png": "[encoded data removed]",
      "text/plain": [
       "<matplotlib.figure.Figure at 0x7f6844cda048>"
      ]
     },
     "metadata": {},
     "output_type": "display_data"
    },
    {
     "data": {
      "image/png": "[encoded data removed]",
      "text/plain": [
       "<matplotlib.figure.Figure at 0x7f6844b433c8>"
      ]
     },
     "metadata": {},
     "output_type": "display_data"
    },
    {
     "data": {
      "image/png": "[encoded data removed]",
      "text/plain": [
       "<matplotlib.figure.Figure at 0x7f6844900828>"
      ]
     },
     "metadata": {},
     "output_type": "display_data"
    },
    {
     "data": {
      "image/png": "[encoded data removed]",
      "text/plain": [
       "<matplotlib.figure.Figure at 0x7f68447aa3c8>"
      ]
     },
     "metadata": {},
     "output_type": "display_data"
    },
    {
     "data": {
      "image/png": "[encoded data removed]",
      "text/plain": [
       "<matplotlib.figure.Figure at 0x7f68446f6518>"
      ]
     },
     "metadata": {},
     "output_type": "display_data"
    },
    {
     "data": {
      "image/png": "[encoded data removed]",
      "text/plain": [
       "<matplotlib.figure.Figure at 0x7f68448296d8>"
      ]
     },
     "metadata": {},
     "output_type": "display_data"
    }
   ],
   "source": [
    "num_of_images = 10\n",
    "fig = plt.figure()\n",
    "def display_images_from_dataset(dataset, labels, num_of_images = 10):\n",
    "    for i in range(num_of_images):\n",
    "        plt.subplot(1,num_of_images,i+1)\n",
    "        plt.title(\"L\"+str(labels[i]))\n",
    "        plt.imshow(dataset[i])\n",
    "        plt.colorbar(fraction=0.1, pad=0.04)(\n",
    "        plt.show()\n",
    "\n",
    "num_of_images = 10\n",
    "print(\"Train\")\n",
    "display_images_from_dataset(train_dataset, train_labels, num_of_images)\n",
    "print(\"Valid\")\n",
    "display_images_from_dataset(val_dataset, val_labels, num_of_images)\n",
    "print(\"Test\")\n",
    "display_images_from_dataset(test_dataset, test_labels, num_of_images)\n",
    "##Here it is possible to say that the images are scaled from -0.5 to 0.5, their size is 28x28 and the data is coherent\n",
    "#with the labels(labels are at the top of the images.)"
   ]
  },
  {
   "cell_type": "markdown",
   "metadata": {},
   "source": [
    "---\n",
    "Problem 5\n",
    "---------\n",
    "\n",
    "By default, this dataset might contain a lot of overlapping samples, including training data that are also contained in the test set. The overlap between training and test can skew the results if you expect to use your model in an environment where there is never an overlap but are actually ok if you expect to see training samples recur when you use it.\n",
    "\n",
    "Measure how much overlap there is between training, validation and test samples. \n",
    "\n",
    "- Give the number of overlapping samples in the test set for the full dataset.\n",
    "- What about near duplicates between datasets? (images that are almost identical), provide a __estimation__ based in any metric or function to evaluate similitude with a given threshold.  \n",
    "- Modify your ``sample_training_data``function and provide a curated train and test dataset removing the very similar samples from one of them. \n",
    "---"
   ]
  },
  {
   "cell_type": "markdown",
   "metadata": {},
   "source": [
    "**Here, the estimation of overlapping samples is that if we rescale the images to 8x8 and hash them, the images with the same hashes would be either totally the same or really similar. First, we give the overlap for full dataset (500000< train and 18000< test images) and the overlap without rescaling(for exactly the same images).Next, we do the same for the sampled dataset(200000 train and 10000 test images). Then after changing our sample_training_data function with sample_training_data_modified, it is possible to see that there is no more overlap. The modification we did is we get four inputs, pickle files and sizes for both test and train dataset. Then after creating the train set, we get the hashes of reshaped (8x8) train dataset, then when creating the test dataset, we get a random image, scale it to 8x8, hashing it and if that hash is in the hashes of train dataset, we skip that image and get a new one.**"
   ]
  },
  {
   "cell_type": "code",
   "execution_count": 21,
   "metadata": {},
   "outputs": [
    {
     "name": "stdout",
     "output_type": "stream",
     "text": [
      "[52909, 52911, 52912, 52911, 52912, 52912, 52912, 52912, 52912, 52911]\n",
      "[1872, 1873, 1873, 1873, 1873, 1872, 1872, 1872, 1872, 1872]\n"
     ]
    }
   ],
   "source": [
    "train_sizes=data_sets_sizes(train_datasets)\n",
    "test_sizes=data_sets_sizes(test_datasets)"
   ]
  },
  {
   "cell_type": "code",
   "execution_count": 22,
   "metadata": {},
   "outputs": [],
   "source": [
    "def all_data(pickle_files, train_size):\n",
    "    #This function gets all the readable data for checking the overlapping samples between large and small dataset.\n",
    "   \n",
    "    train_dataset = []\n",
    "    train_labels = []\n",
    "    num_of_classes = 10\n",
    "    num_of_each_class_samples = train_size\n",
    "    i=0\n",
    "    for label, folder in enumerate(pickle_files):\n",
    "        try:\n",
    "            with open(folder, 'rb') as f:##Reading all the pickles in the folder.\n",
    "                letter = pickle.load(f)\n",
    "                class_samples = random.sample(list(letter),train_size[i])\n",
    "                train_dataset.extend(class_samples)#Getting the data.\n",
    "                labels = [label]*train_size[i]\n",
    "                i=i+1\n",
    "                train_labels.extend(labels) #Getting the labels\n",
    "                f.close()\n",
    "        except Exception as e:\n",
    "            print('Can not read data from', folder, ':', e)\n",
    "    train_dataset = np.array(train_dataset)\n",
    "    train_labels = np.array(train_labels)\n",
    "    return train_dataset, train_labels\n",
    "  "
   ]
  },
  {
   "cell_type": "code",
   "execution_count": 23,
   "metadata": {},
   "outputs": [],
   "source": [
    "all_train,all_train_label=all_data(train_datasets,train_sizes)\n",
    "all_test,all_test_label=all_data(test_datasets,test_sizes)"
   ]
  },
  {
   "cell_type": "code",
   "execution_count": 24,
   "metadata": {},
   "outputs": [],
   "source": [
    "def overlap_counter(train_dataset,test_dataset):\n",
    "    train_dataset_flattened=np.reshape(train_dataset,(train_dataset.shape[0],28*28))\n",
    "    test_dataset_flattened=np.reshape(test_dataset,(test_dataset.shape[0],28*28))\n",
    "    train_dataset_flattened_resized=np.zeros((train_dataset.shape[0],64))\n",
    "    test_dataset_flattened_resized=np.zeros((test_dataset.shape[0],64))\n",
    "\n",
    "    for i in range (train_dataset.shape[0]):\n",
    "        train_dataset_flattened_resized[i]=np.reshape(cv.resize(train_dataset[i],(8,8)),(1,64))#Reshaping and resizing the\n",
    "        #train dataset.\n",
    "        \n",
    "    for i in range (test_dataset.shape[0]):\n",
    "        test_dataset_flattened_resized[i]=np.reshape(cv.resize(test_dataset[i],(8,8)),(1,64))#Reshaping and resizing the\n",
    "        #test dataset.\n",
    "    print(\"Resizing and reshaping done!\")\n",
    "    \n",
    "    hash_of_train=[]\n",
    "    for i in range (train_dataset.shape[0]):\n",
    "        a=hash(tuple(train_dataset_flattened_resized[i]))#Getting list of hashes for train.\n",
    "        hash_of_train.append(a)\n",
    "    print(\"Train hashing done!\")\n",
    "    hash_of_test=[]\n",
    "    for i in range (test_dataset.shape[0]):\n",
    "        a=hash(tuple(test_dataset_flattened_resized[i]))#Getting list of hashes for test.\n",
    "        hash_of_test.append(a)\n",
    "    print(\"Test hashing done!\")\n",
    "\n",
    "    mask=np.isin(hash_of_test,hash_of_train)\n",
    "    overlap_count=len(np.where(mask==True)[0])#Checking how many elements of test hash list in the train hash list.\n",
    "    print(\"Number of overlapping samples is: \",overlap_count)\n",
    "    return overlap_count\n",
    "\n"
   ]
  },
  {
   "cell_type": "code",
   "execution_count": 25,
   "metadata": {},
   "outputs": [],
   "source": [
    "def overlap_counter_exactly(train_dataset,test_dataset):\n",
    "    train_dataset_flattened=np.reshape(train_dataset,(train_dataset.shape[0],28*28))\n",
    "    test_dataset_flattened=np.reshape(test_dataset,(test_dataset.shape[0],28*28))\n",
    "  \n",
    "\n",
    "    for i in range (train_dataset.shape[0]):\n",
    "        train_dataset_flattened[i]=train_dataset[i].flatten()#Flattening resizing the\n",
    "        #train dataset.\n",
    "        \n",
    "    for i in range (test_dataset.shape[0]):\n",
    "        test_dataset_flattened[i]=test_dataset[i].flatten()#Flattening the\n",
    "        #test dataset.\n",
    "    print(\"Resizing done!\")\n",
    "    \n",
    "    hash_of_train=[]\n",
    "    for i in range (train_dataset.shape[0]):\n",
    "        a=hash(tuple(train_dataset_flattened[i]))#Getting list of hashes for train.\n",
    "        hash_of_train.append(a)\n",
    "    print(\"Train hashing done!\")\n",
    "    hash_of_test=[]\n",
    "    for i in range (test_dataset.shape[0]):\n",
    "        a=hash(tuple(test_dataset_flattened[i]))#Getting list of hashes for test.\n",
    "        hash_of_test.append(a)\n",
    "    print(\"Test hashing done!\")\n",
    "\n",
    "    mask=np.isin(hash_of_test,hash_of_train)\n",
    "    overlap_count=len(np.where(mask==True)[0])#Checking how many elements of test hash list in the train hash list.\n",
    "    print(\"Number of overlapping samples is: \",overlap_count)\n",
    "    return overlap_count\n"
   ]
  },
  {
   "cell_type": "code",
   "execution_count": 26,
   "metadata": {},
   "outputs": [
    {
     "name": "stdout",
     "output_type": "stream",
     "text": [
      "Resizing and reshaping done!\n",
      "Train hashing done!\n",
      "Test hashing done!\n",
      "Number of overlapping samples is:  1334\n",
      "Resizing done!\n",
      "Train hashing done!\n",
      "Test hashing done!\n",
      "Number of overlapping samples is:  1319\n",
      "Resizing and reshaping done!\n",
      "Train hashing done!\n",
      "Test hashing done!\n",
      "Number of overlapping samples is:  5021\n",
      "Resizing done!\n",
      "Train hashing done!\n",
      "Test hashing done!\n",
      "Number of overlapping samples is:  4977\n"
     ]
    },
    {
     "data": {
      "text/plain": [
       "4977"
      ]
     },
     "execution_count": 26,
     "metadata": {},
     "output_type": "execute_result"
    }
   ],
   "source": [
    "overlap_counter(train_dataset,test_dataset)##Overlap of sampled dataset (similar and exactly the same images)\n",
    "overlap_counter_exactly(train_dataset,test_dataset)##Overlap of sampled dataset (exactly the same images)\n",
    "overlap_counter(all_train,all_test)##Overlap of whole dataset (similar and exactly the same images)\n",
    "overlap_counter_exactly(all_train,all_test)##Overlap of whole dataset (exactly the same images)\n",
    "\n",
    "#Whole dataset is the one with containing all images in large and small folders\n",
    "\n",
    "#Sampled dataset is the one that we sampled 200000 training images from large folder and sampled 10000 test images from\n",
    "#the small one."
   ]
  },
  {
   "cell_type": "code",
   "execution_count": 27,
   "metadata": {},
   "outputs": [
    {
     "name": "stdout",
     "output_type": "stream",
     "text": [
      "Training size:  (200000, 28, 28) \n",
      "Label vector size: (200000,)\n",
      "Test size:  (10000, 28, 28) \n",
      "Label vector size: (10000,)\n"
     ]
    }
   ],
   "source": [
    "#Code here.\n",
    "def sample_training_data_modified(pickle_files1, train_size ,pickle_files2, test_size):\n",
    "    #This function takes train data folders, train set size, test data folders and test set size as inputs and returns\n",
    "    #train set, train labels, test set and test labels. The modification from sample_training_data is, when we create\n",
    "    #the test dataset, while we are adding test samples, we check its hash, whether it exists in train hash list or not. If\n",
    "    #yes, we skip that image and select another one randomly and it continues until we get enough number of non-overlapping\n",
    "    #samples inbetween train and test datasets.\n",
    "    train_dataset = []\n",
    "    train_labels = []\n",
    "    test_dataset = []\n",
    "    test_labels = []\n",
    "    num_of_classes = 10\n",
    "    num_of_each_class_samples = int(train_size/num_of_classes)\n",
    "    for label, folder in enumerate(pickle_files1):\n",
    "        try:\n",
    "            with open(folder, 'rb') as f: ##Sampling the train dataset.\n",
    "                letter = pickle.load(f)\n",
    "                class_samples = random.sample(list(letter),num_of_each_class_samples)#Randomly selecting the images.\n",
    "                train_dataset.extend(class_samples)\n",
    "                labels = [label]*num_of_each_class_samples#Getting the labels.\n",
    "                train_labels.extend(labels)\n",
    "                f.close()\n",
    "        except Exception as e:\n",
    "            print('Can not read data from', folder, ':', e)\n",
    "    train_dataset = np.array(train_dataset)\n",
    "    train_labels = np.array(train_labels)\n",
    "    hash_of_train=[]\n",
    "    \n",
    "    #train_dataset_flattened=np.reshape(train_dataset,(train_size,28*28))\n",
    "    train_dataset_flattened_resized=np.zeros((train_size,64))\n",
    "\n",
    "    for i in range (train_dataset.shape[0]):\n",
    "        #print(i)\n",
    "        train_dataset_flattened_resized[i]=np.reshape(cv.resize(train_dataset[i],(8,8)),(1,64)) #Reshaping and resizing the train set.\n",
    "        \n",
    "    \n",
    "    for i in range (train_dataset.shape[0]):\n",
    "        a=hash(tuple(train_dataset_flattened_resized[i]))\n",
    "        hash_of_train.append(a) #Obtaining hash table of the train set.\n",
    "    \n",
    "    \n",
    "    num_of_each_class_samples2 = int(test_size/num_of_classes)\n",
    "\n",
    "    for label, folder in enumerate(pickle_files2):\n",
    "        #print(label,folder)\n",
    "        #start = time.clock()\n",
    "\n",
    "        try:\n",
    "            with open(folder, 'rb') as f:\n",
    "                letter = pickle.load(f)\n",
    "                count=0\n",
    "                while (count<num_of_each_class_samples2): #Making sure that we get same number of sample from each class.\n",
    "                    class_samples = random.sample(list(letter),1)\n",
    "                    class_samples=np.array(class_samples)\n",
    "                    if np.isin(hash(tuple(np.reshape(cv.resize(class_samples[0,:,:],(8,8)),(1,64))[0])),hash_of_train)==False:\n",
    "                        #Here we check the hash of each test image, if it exists in the hash list of train, we dont add that image.\n",
    "                        test_dataset.extend(class_samples)\n",
    "                        count=count+1\n",
    "                        \n",
    "                labels = [label]*num_of_each_class_samples2\n",
    "                test_labels.extend(labels)\n",
    "                f.close()\n",
    "        except Exception as e:\n",
    "            print('Can not read data from', folder, ':', e)\n",
    "\n",
    "    test_dataset = np.array(test_dataset)\n",
    "    test_labels = np.array(test_labels)\n",
    "    \n",
    "    \n",
    "    \n",
    "    \n",
    "    \n",
    "    return train_dataset, train_labels, test_dataset, test_labels\n",
    "  \n",
    "\n",
    "# EXAMPLE OF USE\n",
    "train_size = 200000\n",
    "valid_size = 10000\n",
    "test_size = 10000\n",
    "\n",
    "train_dataset, train_labels , test_dataset, test_labels= sample_training_data_modified(train_datasets, train_size, test_datasets, test_size)\n",
    "\n",
    "\n",
    "print('Training size: ', train_dataset.shape, '\\nLabel vector size:',train_labels.shape)\n",
    "#print('Test size: ', val_dataset.shape, '\\nLabel vector size:',val_labels.shape)\n",
    "print('Test size: ', test_dataset.shape, '\\nLabel vector size:',test_labels.shape)"
   ]
  },
  {
   "cell_type": "code",
   "execution_count": 28,
   "metadata": {},
   "outputs": [],
   "source": [
    "train_dataset, train_labels = randomize(train_dataset, train_labels)#Randomizing the new datasets\n",
    "test_dataset, test_labels   = randomize(test_dataset, test_labels)"
   ]
  },
  {
   "cell_type": "code",
   "execution_count": 29,
   "metadata": {},
   "outputs": [
    {
     "name": "stdout",
     "output_type": "stream",
     "text": [
      "Resizing and reshaping done!\n",
      "Train hashing done!\n",
      "Test hashing done!\n",
      "Number of overlapping samples is:  0\n",
      "Resizing done!\n",
      "Train hashing done!\n",
      "Test hashing done!\n",
      "Number of overlapping samples is:  0\n"
     ]
    },
    {
     "data": {
      "text/plain": [
       "0"
      ]
     },
     "execution_count": 29,
     "metadata": {},
     "output_type": "execute_result"
    }
   ],
   "source": [
    "overlap_counter(train_dataset,test_dataset)##Overlap of sampled dataset (similar and exactly the same images)\n",
    "overlap_counter_exactly(train_dataset,test_dataset)##Overlap of sampled dataset (exactly the same images)\n"
   ]
  },
  {
   "cell_type": "markdown",
   "metadata": {},
   "source": [
    "---\n",
    "Problem 6\n",
    "---------\n",
    "\n",
    "Let's get an idea of what a basic classifier can give you on this data. \n",
    "\n",
    "Train a simple model on this data using 50, 100, 1000 and 5000 training samples. \n",
    "\n",
    "Hint: you can use the ```LogisticRegression``` or ```LogisticRegressionCv``` model from sklearn.linear_model.\n",
    "\n",
    "Provide a score for the prediction over the full test data set. You can use any metric from the previous chapters or an implemented one like the ```cross_val_score``` form sklearn which is more accurate.\n",
    "\n",
    "http://scikit-learn.org/stable/modules/generated/sklearn.model_selection.cross_val_score.html\n",
    "\n",
    "A good choice of parameters (and regularization method) can give you results up to the 89%\n",
    "\n",
    "\n",
    "\n",
    "```\n",
    "#Samples: 50 ---> Score: 0.471428571429\n",
    "#Samples: 100 ---> Score: 0.605865717935\n",
    "#Samples: 1000 ---> Score: 0.760772183027\n",
    "#Samples: 5000 ---> Score: 0.812826972435 \n",
    "```\n",
    "\n",
    "\n",
    "\n",
    "---"
   ]
  },
  {
   "cell_type": "code",
   "execution_count": 30,
   "metadata": {},
   "outputs": [
    {
     "name": "stderr",
     "output_type": "stream",
     "text": [
      "/home/obsatir/anaconda3/lib/python3.6/site-packages/sklearn/cross_validation.py:41: DeprecationWarning: This module was deprecated in version 0.18 in favor of the model_selection module into which all the refactored classes and functions are moved. Also note that the interface of the new CV iterators are different from that of this module. This module will be removed in 0.20.\n",
      "  \"This module will be removed in 0.20.\", DeprecationWarning)\n"
     ]
    }
   ],
   "source": [
    "from sklearn.linear_model import LogisticRegressionCV\n",
    "from sklearn.cross_validation import cross_val_score\n",
    "\n",
    "def train_and_validate(num_examples):\n",
    "    model=LogisticRegressionCV()\n",
    "    train_set,label,_,_=sample_training_data_modified(train_datasets, num_examples ,[], 0) #We create a dataset with equal nr of images from each class.\n",
    "    score=cross_val_score(model,np.reshape(train_set,(num_examples,28*28)), label)#Crossvalidate the dataset with k=3.\n",
    "    score=np.mean(score)#Taking the mean of the 3 scores from 3-fold cross validation.\n",
    "    return score"
   ]
  },
  {
   "cell_type": "code",
   "execution_count": 31,
   "metadata": {},
   "outputs": [
    {
     "name": "stdout",
     "output_type": "stream",
     "text": [
      "Cross Validation Score\n",
      "\n",
      "Samples: 50 ---> Score: 0.5166666666666666\n",
      "Samples: 100 ---> Score: 0.6694444444444444\n",
      "Samples: 1000 ---> Score: 0.7759655377302437\n",
      "Samples: 5000 ---> Score: 0.8015895919005364\n"
     ]
    }
   ],
   "source": [
    "training_sizes = [50, 100, 1000, 5000]\n",
    "\n",
    "print(\"Cross Validation Score\\n\")\n",
    "for size in training_sizes:\n",
    "    score = train_and_validate(size)\n",
    "    print(\"Samples:\", size,\"---> Score:\", score)\n",
    "    \n",
    "    \n",
    "#Samples: 50 ---> Score: 0.471428571429\n",
    "#Samples: 100 ---> Score: 0.605865717935\n",
    "#Samples: 1000 ---> Score: 0.760772183027\n",
    "#Samples: 5000 ---> Score: 0.812826972435\n"
   ]
  },
  {
   "cell_type": "markdown",
   "metadata": {},
   "source": [
    "**As it is expected from the given scores, the cross validation score increases when we increase our number of samples.**"
   ]
  },
  {
   "cell_type": "markdown",
   "metadata": {},
   "source": [
    "**In the cell below, we pickle our data set in order to use in the second part. It consists 200000 train images 10000 test images and 10000 validation images. (Note that with this data set, we have 0 overlapping samples between train and test images.)**\n"
   ]
  },
  {
   "cell_type": "code",
   "execution_count": 32,
   "metadata": {},
   "outputs": [],
   "source": [
    "pickle_file = '../data/notMNIST.pickle'\n",
    "f = open(pickle_file, 'wb')\n",
    "dataset_dict = {'train_dataset': train_dataset, 'train_labels': train_labels, 'valid_dataset': val_dataset, 'valid_labels': val_labels, 'test_dataset': test_dataset, 'test_labels': test_labels, }\n",
    "pickle.dump(dataset_dict, f, pickle.HIGHEST_PROTOCOL)\n",
    "f.close()\n"
   ]
  },
  {
   "cell_type": "markdown",
   "metadata": {},
   "source": [
    "**To sum up, in this part we preprocess by getting our data folders (large and small), rescaling, clearing and randomizing the order of our data. As the result, the pixel values are between -0.5 and 0.5, the labels are set to 0 to 9 and there are no overlapping samples (either same or very similar) in train and test datasets. At the end of preprocessing, we save our data(200000 train, 10000 validation and 10000 test images without overlapping samples) into a pickle in order to use it in MLP and SVM comparison in the second part. **"
   ]
  }
 ],
 "metadata": {
  "kernelspec": {
   "display_name": "Python 3",
   "language": "python",
   "name": "python3"
  },
  "language_info": {
   "codemirror_mode": {
    "name": "ipython",
    "version": 3
   },
   "file_extension": ".py",
   "mimetype": "text/x-python",
   "name": "python",
   "nbconvert_exporter": "python",
   "pygments_lexer": "ipython3",
   "version": "3.6.4"
  }
 },
 "nbformat": 4,
 "nbformat_minor": 2
}
